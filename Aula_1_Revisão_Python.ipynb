{
  "nbformat": 4,
  "nbformat_minor": 0,
  "metadata": {
    "colab": {
      "name": "Aula 1 - Revisão Python.ipynb",
      "provenance": [],
      "toc_visible": true,
      "include_colab_link": true
    },
    "kernelspec": {
      "name": "python3",
      "display_name": "Python 3"
    },
    "language_info": {
      "name": "python"
    }
  },
  "cells": [
    {
      "cell_type": "markdown",
      "metadata": {
        "id": "view-in-github",
        "colab_type": "text"
      },
      "source": [
        "<a href=\"https://colab.research.google.com/github/angelareis/Projeto_Mocoia/blob/main/Aula_1_Revis%C3%A3o_Python.ipynb\" target=\"_parent\"><img src=\"https://colab.research.google.com/assets/colab-badge.svg\" alt=\"Open In Colab\"/></a>"
      ]
    },
    {
      "cell_type": "markdown",
      "metadata": {
        "id": "qetEcYE5qPZp"
      },
      "source": [
        "# Revisão de Python\n",
        "* Variáveis\n",
        "* Strings\n",
        "* Operações matemáticas\n",
        "* Operações lógicas\n",
        "* Condicionais\n",
        "* Loops\n",
        "* Estruturas de Dados\n",
        "    * Listas\n",
        "    * Tuplas\n",
        "    * Conjuntos\n",
        "    * Dicionários"
      ]
    },
    {
      "cell_type": "markdown",
      "metadata": {
        "id": "6cA8mt7VqzRO"
      },
      "source": [
        "# Variáveis\n",
        "\n",
        "Representa um valor armazenado na memória. Para criar uma variável usa-se o operador de atribuição `=`. \n",
        "\n",
        "Variáveis não podem começar com números ou simbolos.\n",
        "\n",
        "Existe uma convenção no nome de variáveis totalmente maiúsculas: são consideradas constantes."
      ]
    },
    {
      "cell_type": "code",
      "metadata": {
        "id": "lSWpRNFjmd6X"
      },
      "source": [
        "a = 10"
      ],
      "execution_count": null,
      "outputs": []
    },
    {
      "cell_type": "code",
      "source": [
        "a"
      ],
      "metadata": {
        "colab": {
          "base_uri": "https://localhost:8080/"
        },
        "id": "2tU2TS4WImFb",
        "outputId": "7b111022-871e-4657-a55e-dc82a1dad893"
      },
      "execution_count": null,
      "outputs": [
        {
          "output_type": "execute_result",
          "data": {
            "text/plain": [
              "10"
            ]
          },
          "metadata": {},
          "execution_count": 2
        }
      ]
    },
    {
      "cell_type": "code",
      "source": [
        "print(a)"
      ],
      "metadata": {
        "colab": {
          "base_uri": "https://localhost:8080/"
        },
        "id": "PPrtPC3hIotg",
        "outputId": "e3ba65eb-aef9-49f4-c69a-c8e94ec601e3"
      },
      "execution_count": null,
      "outputs": [
        {
          "output_type": "stream",
          "name": "stdout",
          "text": [
            "10\n"
          ]
        }
      ]
    },
    {
      "cell_type": "code",
      "source": [
        "variavel_a = 10"
      ],
      "metadata": {
        "id": "nmEiapKnIsjj"
      },
      "execution_count": null,
      "outputs": []
    },
    {
      "cell_type": "code",
      "source": [
        "a2 = 12"
      ],
      "metadata": {
        "id": "NN0vY4UtI-qP"
      },
      "execution_count": null,
      "outputs": []
    },
    {
      "cell_type": "code",
      "source": [
        "# não é possível criar uma variável começando por número\n",
        "2a = 12"
      ],
      "metadata": {
        "colab": {
          "base_uri": "https://localhost:8080/",
          "height": 155
        },
        "id": "3c5TJmjBJArT",
        "outputId": "d1668efe-dfdb-4a56-ffa0-65b702ef3a8d"
      },
      "execution_count": null,
      "outputs": [
        {
          "output_type": "error",
          "ename": "SyntaxError",
          "evalue": "ignored",
          "traceback": [
            "\u001b[0;36m  File \u001b[0;32m\"<ipython-input-6-f0c8d9fc753a>\"\u001b[0;36m, line \u001b[0;32m2\u001b[0m\n\u001b[0;31m    2a = 12\u001b[0m\n\u001b[0m     ^\u001b[0m\n\u001b[0;31mSyntaxError\u001b[0m\u001b[0;31m:\u001b[0m invalid syntax\n"
          ]
        }
      ]
    },
    {
      "cell_type": "code",
      "source": [
        "# convenção que indica valores constantes\n",
        "PI = 3.1415"
      ],
      "metadata": {
        "id": "cYNg3pTGJJ-d"
      },
      "execution_count": null,
      "outputs": []
    },
    {
      "cell_type": "code",
      "source": [
        "PI = 1\n",
        "print(PI)"
      ],
      "metadata": {
        "colab": {
          "base_uri": "https://localhost:8080/"
        },
        "id": "vPN-RcycJUr8",
        "outputId": "c4948812-833d-4b7f-d37b-700d81533b9a"
      },
      "execution_count": null,
      "outputs": [
        {
          "output_type": "stream",
          "name": "stdout",
          "text": [
            "1\n"
          ]
        }
      ]
    },
    {
      "cell_type": "code",
      "source": [
        "a = a + 10\n",
        "print(a)"
      ],
      "metadata": {
        "colab": {
          "base_uri": "https://localhost:8080/"
        },
        "id": "v75hVR2vJhNW",
        "outputId": "178352fe-e9f1-43d8-a19e-478bb0d9f673"
      },
      "execution_count": null,
      "outputs": [
        {
          "output_type": "stream",
          "name": "stdout",
          "text": [
            "20\n"
          ]
        }
      ]
    },
    {
      "cell_type": "markdown",
      "metadata": {
        "id": "yKvEo_0X56Fo"
      },
      "source": [
        "# Tipos das Variáveis\n",
        "\n",
        "* Inteiro (int): números inteiros\n",
        "* Ponto flutuante (float): números com parte decimal.\n",
        "* Strings (str): cadeias de caracteres (texto)\n",
        "* Booleanos (bool): True/False\n",
        "\n",
        "Podemos saber o tipo de qualquer variável usando o comando type(). O comando type() é útil para saber o tipo retornado por uma função.\n",
        "\n",
        "## Conversão\n",
        "Podemos converter de um tipo para outro usando o comando igual o nome da variável."
      ]
    },
    {
      "cell_type": "code",
      "metadata": {
        "colab": {
          "base_uri": "https://localhost:8080/"
        },
        "id": "dfx6HiC85zw3",
        "outputId": "36ad3208-79fa-41c7-ede8-79a30576482e"
      },
      "source": [
        "type(a)"
      ],
      "execution_count": null,
      "outputs": [
        {
          "output_type": "execute_result",
          "data": {
            "text/plain": [
              "int"
            ]
          },
          "metadata": {},
          "execution_count": 11
        }
      ]
    },
    {
      "cell_type": "code",
      "source": [
        "a = 3.5\n",
        "type(a)"
      ],
      "metadata": {
        "colab": {
          "base_uri": "https://localhost:8080/"
        },
        "id": "8HUaLYhtKS-I",
        "outputId": "8f7face5-a1e5-461f-e9a7-a94466b80be1"
      },
      "execution_count": null,
      "outputs": [
        {
          "output_type": "execute_result",
          "data": {
            "text/plain": [
              "float"
            ]
          },
          "metadata": {},
          "execution_count": 12
        }
      ]
    },
    {
      "cell_type": "code",
      "source": [
        "a = 'texto'\n",
        "type(a)"
      ],
      "metadata": {
        "colab": {
          "base_uri": "https://localhost:8080/"
        },
        "id": "U6AGvTP1Kj31",
        "outputId": "09e6c975-4dce-4a7b-f9f4-5a125d502b94"
      },
      "execution_count": null,
      "outputs": [
        {
          "output_type": "execute_result",
          "data": {
            "text/plain": [
              "str"
            ]
          },
          "metadata": {},
          "execution_count": 13
        }
      ]
    },
    {
      "cell_type": "code",
      "source": [
        "a = 3.0"
      ],
      "metadata": {
        "id": "3D1tzhSzKqwe"
      },
      "execution_count": null,
      "outputs": []
    },
    {
      "cell_type": "code",
      "source": [
        "a"
      ],
      "metadata": {
        "colab": {
          "base_uri": "https://localhost:8080/"
        },
        "id": "E-S0_lOpL0ZU",
        "outputId": "058cfb9c-a16e-4cc9-a7e1-68210b997fd7"
      },
      "execution_count": null,
      "outputs": [
        {
          "output_type": "execute_result",
          "data": {
            "text/plain": [
              "3.0"
            ]
          },
          "metadata": {},
          "execution_count": 15
        }
      ]
    },
    {
      "cell_type": "code",
      "source": [
        "type(a)"
      ],
      "metadata": {
        "colab": {
          "base_uri": "https://localhost:8080/"
        },
        "id": "NYtxLv1IL2f8",
        "outputId": "e273f35d-658f-4022-fb86-1ad53f0db4dc"
      },
      "execution_count": null,
      "outputs": [
        {
          "output_type": "execute_result",
          "data": {
            "text/plain": [
              "float"
            ]
          },
          "metadata": {},
          "execution_count": 16
        }
      ]
    },
    {
      "cell_type": "code",
      "source": [
        "int(a)"
      ],
      "metadata": {
        "colab": {
          "base_uri": "https://localhost:8080/"
        },
        "id": "L_Ya4UiaLmGZ",
        "outputId": "51d45084-cb6b-4d4c-fa41-38b0f7e8152b"
      },
      "execution_count": null,
      "outputs": [
        {
          "output_type": "execute_result",
          "data": {
            "text/plain": [
              "3"
            ]
          },
          "metadata": {},
          "execution_count": 17
        }
      ]
    },
    {
      "cell_type": "code",
      "source": [
        "a"
      ],
      "metadata": {
        "colab": {
          "base_uri": "https://localhost:8080/"
        },
        "id": "CgqgC94xL82x",
        "outputId": "848a803a-08e2-4c22-f9f9-4baf7cc4137d"
      },
      "execution_count": null,
      "outputs": [
        {
          "output_type": "execute_result",
          "data": {
            "text/plain": [
              "3.0"
            ]
          },
          "metadata": {},
          "execution_count": 18
        }
      ]
    },
    {
      "cell_type": "code",
      "source": [
        "a = int(a)"
      ],
      "metadata": {
        "id": "sOy-r-FxL_co"
      },
      "execution_count": null,
      "outputs": []
    },
    {
      "cell_type": "code",
      "source": [
        "type(a)"
      ],
      "metadata": {
        "colab": {
          "base_uri": "https://localhost:8080/"
        },
        "id": "JyMFTk_CMBAw",
        "outputId": "3e5e26ee-ac8d-4055-bf20-577406798ce8"
      },
      "execution_count": null,
      "outputs": [
        {
          "output_type": "execute_result",
          "data": {
            "text/plain": [
              "int"
            ]
          },
          "metadata": {},
          "execution_count": 20
        }
      ]
    },
    {
      "cell_type": "code",
      "source": [
        "float(a)"
      ],
      "metadata": {
        "colab": {
          "base_uri": "https://localhost:8080/"
        },
        "id": "Nxkk08jiMFR9",
        "outputId": "c9f870b9-95ad-4f3d-d9e3-44583cbf38fe"
      },
      "execution_count": null,
      "outputs": [
        {
          "output_type": "execute_result",
          "data": {
            "text/plain": [
              "3.0"
            ]
          },
          "metadata": {},
          "execution_count": 21
        }
      ]
    },
    {
      "cell_type": "code",
      "source": [
        "float('3.0')"
      ],
      "metadata": {
        "colab": {
          "base_uri": "https://localhost:8080/"
        },
        "id": "Ocb4EV0DMHkt",
        "outputId": "abe667c7-e454-41e7-9f1c-ff015c729f18"
      },
      "execution_count": null,
      "outputs": [
        {
          "output_type": "execute_result",
          "data": {
            "text/plain": [
              "3.0"
            ]
          },
          "metadata": {},
          "execution_count": 22
        }
      ]
    },
    {
      "cell_type": "code",
      "source": [
        "int('3')"
      ],
      "metadata": {
        "colab": {
          "base_uri": "https://localhost:8080/"
        },
        "id": "OldzuspPMRte",
        "outputId": "801f3f83-9764-42f3-ec1a-96a9bb7e2b15"
      },
      "execution_count": null,
      "outputs": [
        {
          "output_type": "execute_result",
          "data": {
            "text/plain": [
              "3"
            ]
          },
          "metadata": {},
          "execution_count": 23
        }
      ]
    },
    {
      "cell_type": "markdown",
      "metadata": {
        "id": "YjiE3NZb7zm8"
      },
      "source": [
        "# Strings\n",
        "\n",
        "Strings representam texto. Podem ser declaradas de três formas diferentes:\n",
        "\n",
        "1. Usando aspas simples '\n",
        "2. Usando aspas duplas\n",
        "3. Usando 'aspas triplas'"
      ]
    },
    {
      "cell_type": "code",
      "metadata": {
        "id": "ZgPETeio8JJx"
      },
      "source": [
        "a = 'texto'\n",
        "b = \"texto\""
      ],
      "execution_count": null,
      "outputs": []
    },
    {
      "cell_type": "code",
      "source": [
        "print(a, b)"
      ],
      "metadata": {
        "colab": {
          "base_uri": "https://localhost:8080/"
        },
        "id": "0X0SF-sWNW5w",
        "outputId": "9640f10e-9763-419b-f79d-ff6114815f58"
      },
      "execution_count": null,
      "outputs": [
        {
          "output_type": "stream",
          "name": "stdout",
          "text": [
            "texto texto\n"
          ]
        }
      ]
    },
    {
      "cell_type": "code",
      "source": [
        "c = \"\"\"\n",
        "aaaaa\n",
        "bbbb\n",
        "ccc\n",
        "\"\"\"\n",
        "print(c)"
      ],
      "metadata": {
        "colab": {
          "base_uri": "https://localhost:8080/"
        },
        "id": "04P-SdUqNfoT",
        "outputId": "40237097-73e3-45de-c7ad-a96f72c34219"
      },
      "execution_count": null,
      "outputs": [
        {
          "output_type": "stream",
          "name": "stdout",
          "text": [
            "\n",
            "aaaaa\n",
            "bbbb\n",
            "ccc\n",
            "\n"
          ]
        }
      ]
    },
    {
      "cell_type": "code",
      "source": [
        "def transforma_dados(dado_original, modifcador):\n",
        "    '''\n",
        "        Essa função bla bla.\n",
        "\n",
        "        dado_original: é o dado sem nenhuma transformação\n",
        "        modificador: é tal\n",
        "\n",
        "        retorna o dado transformado pela... \n",
        "\n",
        "    '''"
      ],
      "metadata": {
        "id": "Qn3HsqfROCQu"
      },
      "execution_count": null,
      "outputs": []
    },
    {
      "cell_type": "markdown",
      "metadata": {
        "id": "xds6XAjg8vx3"
      },
      "source": [
        "## Indexando strings\n",
        "\n",
        "Podemos acessar os elementos individuais de uma string com o operador de indexação []."
      ]
    },
    {
      "cell_type": "code",
      "metadata": {
        "colab": {
          "base_uri": "https://localhost:8080/",
          "height": 38
        },
        "id": "tYII_Mb78QNY",
        "outputId": "9bd3ff70-9c2a-43d4-8d87-0ebec8154e53"
      },
      "source": [
        "a"
      ],
      "execution_count": null,
      "outputs": [
        {
          "output_type": "execute_result",
          "data": {
            "text/plain": [
              "'texto'"
            ],
            "application/vnd.google.colaboratory.intrinsic+json": {
              "type": "string"
            }
          },
          "metadata": {},
          "execution_count": 28
        }
      ]
    },
    {
      "cell_type": "code",
      "source": [
        "a[0]"
      ],
      "metadata": {
        "colab": {
          "base_uri": "https://localhost:8080/",
          "height": 38
        },
        "id": "jHsws60ePD4V",
        "outputId": "218907d9-e64b-4396-bdf2-77fd9cf76169"
      },
      "execution_count": null,
      "outputs": [
        {
          "output_type": "execute_result",
          "data": {
            "text/plain": [
              "'t'"
            ],
            "application/vnd.google.colaboratory.intrinsic+json": {
              "type": "string"
            }
          },
          "metadata": {},
          "execution_count": 29
        }
      ]
    },
    {
      "cell_type": "code",
      "source": [
        "a[2]"
      ],
      "metadata": {
        "colab": {
          "base_uri": "https://localhost:8080/",
          "height": 38
        },
        "id": "xxeiHahqPM1A",
        "outputId": "1f9f9bba-289c-409d-b1af-eac7c83bf215"
      },
      "execution_count": null,
      "outputs": [
        {
          "output_type": "execute_result",
          "data": {
            "text/plain": [
              "'x'"
            ],
            "application/vnd.google.colaboratory.intrinsic+json": {
              "type": "string"
            }
          },
          "metadata": {},
          "execution_count": 30
        }
      ]
    },
    {
      "cell_type": "code",
      "source": [
        "a[0:3] #intervalo aberto para o final do slice"
      ],
      "metadata": {
        "colab": {
          "base_uri": "https://localhost:8080/",
          "height": 38
        },
        "id": "uMIpqdVjPgia",
        "outputId": "bfdbd27e-c5e3-44ed-a398-c86e74423b5a"
      },
      "execution_count": null,
      "outputs": [
        {
          "output_type": "execute_result",
          "data": {
            "text/plain": [
              "'tex'"
            ],
            "application/vnd.google.colaboratory.intrinsic+json": {
              "type": "string"
            }
          },
          "metadata": {},
          "execution_count": 31
        }
      ]
    },
    {
      "cell_type": "code",
      "source": [
        "a[1:3]"
      ],
      "metadata": {
        "colab": {
          "base_uri": "https://localhost:8080/",
          "height": 38
        },
        "id": "Ed1zAkruPw_U",
        "outputId": "e4293250-9355-486f-ac0a-8fb229e85562"
      },
      "execution_count": null,
      "outputs": [
        {
          "output_type": "execute_result",
          "data": {
            "text/plain": [
              "'ex'"
            ],
            "application/vnd.google.colaboratory.intrinsic+json": {
              "type": "string"
            }
          },
          "metadata": {},
          "execution_count": 32
        }
      ]
    },
    {
      "cell_type": "code",
      "source": [
        "a[1:]"
      ],
      "metadata": {
        "colab": {
          "base_uri": "https://localhost:8080/",
          "height": 38
        },
        "id": "H_DaogflP6Pc",
        "outputId": "856ad850-c2b7-4bd4-fc5b-4d3c0e601ff4"
      },
      "execution_count": null,
      "outputs": [
        {
          "output_type": "execute_result",
          "data": {
            "text/plain": [
              "'exto'"
            ],
            "application/vnd.google.colaboratory.intrinsic+json": {
              "type": "string"
            }
          },
          "metadata": {},
          "execution_count": 33
        }
      ]
    },
    {
      "cell_type": "markdown",
      "metadata": {
        "id": "VWlhrwb_9jgr"
      },
      "source": [
        "## Usando os operadores de strings\n",
        "\n",
        "* Adição: concatena strings\n",
        "* Multiplicação: replica o valor da string"
      ]
    },
    {
      "cell_type": "code",
      "metadata": {
        "colab": {
          "base_uri": "https://localhost:8080/",
          "height": 38
        },
        "id": "7S9AZny29d6h",
        "outputId": "11a5af82-0395-4872-8639-2d9cb2060771"
      },
      "source": [
        "a"
      ],
      "execution_count": null,
      "outputs": [
        {
          "output_type": "execute_result",
          "data": {
            "text/plain": [
              "'texto'"
            ],
            "application/vnd.google.colaboratory.intrinsic+json": {
              "type": "string"
            }
          },
          "metadata": {},
          "execution_count": 34
        }
      ]
    },
    {
      "cell_type": "code",
      "source": [
        "'novo ' + a"
      ],
      "metadata": {
        "colab": {
          "base_uri": "https://localhost:8080/",
          "height": 38
        },
        "id": "2qy4Xzk8QPlb",
        "outputId": "5bd6e20a-11ca-4c14-f005-bcaf6383b5df"
      },
      "execution_count": null,
      "outputs": [
        {
          "output_type": "execute_result",
          "data": {
            "text/plain": [
              "'novo texto'"
            ],
            "application/vnd.google.colaboratory.intrinsic+json": {
              "type": "string"
            }
          },
          "metadata": {},
          "execution_count": 35
        }
      ]
    },
    {
      "cell_type": "code",
      "source": [
        "a*4"
      ],
      "metadata": {
        "colab": {
          "base_uri": "https://localhost:8080/",
          "height": 38
        },
        "id": "ihMjSuN7QT3p",
        "outputId": "8db44c3a-c312-40fe-d1cd-62e9153cb9a1"
      },
      "execution_count": null,
      "outputs": [
        {
          "output_type": "execute_result",
          "data": {
            "text/plain": [
              "'textotextotextotexto'"
            ],
            "application/vnd.google.colaboratory.intrinsic+json": {
              "type": "string"
            }
          },
          "metadata": {},
          "execution_count": 36
        }
      ]
    },
    {
      "cell_type": "code",
      "source": [
        "a = 'novo ' + a\n",
        "print(a)"
      ],
      "metadata": {
        "colab": {
          "base_uri": "https://localhost:8080/"
        },
        "id": "Z_f3L-r3QgG2",
        "outputId": "1c2a5ad3-ae7e-4264-bd8e-c08e53db8d50"
      },
      "execution_count": null,
      "outputs": [
        {
          "output_type": "stream",
          "name": "stdout",
          "text": [
            "novo texto\n"
          ]
        }
      ]
    },
    {
      "cell_type": "markdown",
      "metadata": {
        "id": "36WM5QfC95XP"
      },
      "source": [
        "# Operações matemáticas e lógicas\n",
        "\n",
        "Além das 4 operações aritméticas básicas o python possui:\n",
        "\n",
        "* Potenciação: **\n",
        "* Divisão Inteira: //\n",
        "* Resto da divisão: %\n",
        "\n",
        "Ordem de execução\n",
        "* Parênteses\n",
        "* Multiplicação e Divisão\n",
        "* Adição e subtração\n",
        "\n",
        "Operadores lógicos retornam sempre um tipo booleano. \n",
        "* A == B\n",
        "* A != B\n",
        "* A > B e A >= B\n",
        "* A < B e A <= B\n",
        "\n",
        "Podemos combinar mais de uma operação lógica usando as palavras reservadas:\n",
        "\n",
        "* `and`: quando esperamos que os dois operandos sejam verdadeiros\n",
        "* `or`: quando precisamos que apenas um dos operandos seja verdadeiro"
      ]
    },
    {
      "cell_type": "code",
      "source": [
        "3 ** 3"
      ],
      "metadata": {
        "colab": {
          "base_uri": "https://localhost:8080/"
        },
        "id": "qGyOPfXD67od",
        "outputId": "71b704e3-2661-4f03-d9f6-ac3549a93394"
      },
      "execution_count": null,
      "outputs": [
        {
          "output_type": "execute_result",
          "data": {
            "text/plain": [
              "27"
            ]
          },
          "metadata": {},
          "execution_count": 38
        }
      ]
    },
    {
      "cell_type": "code",
      "source": [
        "8 / 3"
      ],
      "metadata": {
        "colab": {
          "base_uri": "https://localhost:8080/"
        },
        "id": "DiYfSmG3Q-Xk",
        "outputId": "f057678c-3cff-4874-ca41-4ef6000e4141"
      },
      "execution_count": null,
      "outputs": [
        {
          "output_type": "execute_result",
          "data": {
            "text/plain": [
              "2.6666666666666665"
            ]
          },
          "metadata": {},
          "execution_count": 39
        }
      ]
    },
    {
      "cell_type": "code",
      "source": [
        "type(None)"
      ],
      "metadata": {
        "colab": {
          "base_uri": "https://localhost:8080/"
        },
        "id": "GZc7kCcCUrJv",
        "outputId": "b75b61b7-4e3a-4f3a-93ef-bba7778bf1aa"
      },
      "execution_count": null,
      "outputs": [
        {
          "output_type": "execute_result",
          "data": {
            "text/plain": [
              "NoneType"
            ]
          },
          "metadata": {},
          "execution_count": 40
        }
      ]
    },
    {
      "cell_type": "code",
      "source": [
        "3 == 4"
      ],
      "metadata": {
        "colab": {
          "base_uri": "https://localhost:8080/"
        },
        "id": "dq-XVhsXU0YZ",
        "outputId": "9632d24b-d12f-4ac2-a27e-3d6d0c3c06fc"
      },
      "execution_count": null,
      "outputs": [
        {
          "output_type": "execute_result",
          "data": {
            "text/plain": [
              "False"
            ]
          },
          "metadata": {},
          "execution_count": 41
        }
      ]
    },
    {
      "cell_type": "code",
      "source": [
        "8 // 3"
      ],
      "metadata": {
        "colab": {
          "base_uri": "https://localhost:8080/"
        },
        "id": "KBlA3mcwRFNV",
        "outputId": "3875148c-6f03-4093-a418-4adff3b63a47"
      },
      "execution_count": null,
      "outputs": [
        {
          "output_type": "execute_result",
          "data": {
            "text/plain": [
              "2"
            ]
          },
          "metadata": {},
          "execution_count": 43
        }
      ]
    },
    {
      "cell_type": "code",
      "source": [
        "8 % 3"
      ],
      "metadata": {
        "colab": {
          "base_uri": "https://localhost:8080/"
        },
        "id": "7Ns2gmwSRKvs",
        "outputId": "3a36ce32-fd2b-40c3-e2e6-800568de6dde"
      },
      "execution_count": null,
      "outputs": [
        {
          "output_type": "execute_result",
          "data": {
            "text/plain": [
              "2"
            ]
          },
          "metadata": {},
          "execution_count": 44
        }
      ]
    },
    {
      "cell_type": "code",
      "source": [
        "a = 10\n",
        "b = 11\n",
        "c = 15"
      ],
      "metadata": {
        "id": "bWEERaCnRc3c"
      },
      "execution_count": null,
      "outputs": []
    },
    {
      "cell_type": "code",
      "source": [
        "a > b"
      ],
      "metadata": {
        "colab": {
          "base_uri": "https://localhost:8080/"
        },
        "id": "WLPol2waRgPl",
        "outputId": "d5473011-a224-4853-a3e0-09b3eb562fb7"
      },
      "execution_count": null,
      "outputs": [
        {
          "output_type": "execute_result",
          "data": {
            "text/plain": [
              "False"
            ]
          },
          "metadata": {},
          "execution_count": 46
        }
      ]
    },
    {
      "cell_type": "code",
      "source": [
        "a == b"
      ],
      "metadata": {
        "colab": {
          "base_uri": "https://localhost:8080/"
        },
        "id": "yX1urU6YRy8h",
        "outputId": "79981c97-4d47-4eff-c24f-ceff8b3a58b5"
      },
      "execution_count": null,
      "outputs": [
        {
          "output_type": "execute_result",
          "data": {
            "text/plain": [
              "False"
            ]
          },
          "metadata": {},
          "execution_count": 47
        }
      ]
    },
    {
      "cell_type": "code",
      "source": [
        "a != b"
      ],
      "metadata": {
        "colab": {
          "base_uri": "https://localhost:8080/"
        },
        "id": "rdnkUy7nR3z9",
        "outputId": "20dbbd37-6a54-4126-a599-f609e89c5fc3"
      },
      "execution_count": null,
      "outputs": [
        {
          "output_type": "execute_result",
          "data": {
            "text/plain": [
              "True"
            ]
          },
          "metadata": {},
          "execution_count": 48
        }
      ]
    },
    {
      "cell_type": "code",
      "source": [
        "a > b and b < c"
      ],
      "metadata": {
        "colab": {
          "base_uri": "https://localhost:8080/"
        },
        "id": "XPqq06AuSAKp",
        "outputId": "d9ad3309-cfba-48b7-ab91-c9e1c8da1bc9"
      },
      "execution_count": null,
      "outputs": [
        {
          "output_type": "execute_result",
          "data": {
            "text/plain": [
              "False"
            ]
          },
          "metadata": {},
          "execution_count": 49
        }
      ]
    },
    {
      "cell_type": "code",
      "source": [
        "a < b and b < c and c < a"
      ],
      "metadata": {
        "colab": {
          "base_uri": "https://localhost:8080/"
        },
        "id": "0sU9hjiZSKzO",
        "outputId": "9a92c680-25b8-4c11-f001-0e09ca3437fd"
      },
      "execution_count": null,
      "outputs": [
        {
          "output_type": "execute_result",
          "data": {
            "text/plain": [
              "False"
            ]
          },
          "metadata": {},
          "execution_count": 50
        }
      ]
    },
    {
      "cell_type": "code",
      "source": [
        "a > b or b < c"
      ],
      "metadata": {
        "colab": {
          "base_uri": "https://localhost:8080/"
        },
        "id": "Glh-de94STvM",
        "outputId": "57127b3a-df63-44b4-d77f-806f10ea96f4"
      },
      "execution_count": null,
      "outputs": [
        {
          "output_type": "execute_result",
          "data": {
            "text/plain": [
              "True"
            ]
          },
          "metadata": {},
          "execution_count": 51
        }
      ]
    },
    {
      "cell_type": "markdown",
      "metadata": {
        "id": "Pq7IpbNgA8oP"
      },
      "source": [
        "# Estruturas Condicionais\n",
        "\n",
        "Maneiras de alterar o fluxo de execução de um código dependendo do resultado de operações lógicas.\n",
        "\n",
        "`if (CONDICAO)`:\n",
        "\n",
        "`elif (CONDICAO)`:\n",
        "\n",
        "`else:`"
      ]
    },
    {
      "cell_type": "code",
      "source": [
        "media_final = 7.5\n",
        "\n",
        "if media_final >=7:\n",
        "    print('aprovado')\n",
        "elif media_final < 7 and media_final >=5:\n",
        "    print('recuperação')\n",
        "else:\n",
        "    print('reprovado')"
      ],
      "metadata": {
        "colab": {
          "base_uri": "https://localhost:8080/"
        },
        "id": "Oyc4VIb469pn",
        "outputId": "2e485af5-ad70-4049-82ad-bc2392e21b59"
      },
      "execution_count": null,
      "outputs": [
        {
          "output_type": "stream",
          "name": "stdout",
          "text": [
            "aprovado\n"
          ]
        }
      ]
    },
    {
      "cell_type": "markdown",
      "metadata": {
        "id": "lQ1YUaZTCJfO"
      },
      "source": [
        "# Loops\n",
        "\n",
        "São estruturas usadas para repetir várias vezes um trecho de código. No python existe duas maneiras de fazer loops:\n",
        "\n",
        "* for\n",
        "* while"
      ]
    },
    {
      "cell_type": "code",
      "source": [
        "for i in range(5):\n",
        "    print(i)"
      ],
      "metadata": {
        "colab": {
          "base_uri": "https://localhost:8080/"
        },
        "id": "0dJU3PxO6-9K",
        "outputId": "4d5484a1-d613-470b-eee6-01f66c20517b"
      },
      "execution_count": null,
      "outputs": [
        {
          "output_type": "stream",
          "name": "stdout",
          "text": [
            "0\n",
            "1\n",
            "2\n",
            "3\n",
            "4\n"
          ]
        }
      ]
    },
    {
      "cell_type": "code",
      "source": [
        "for i in 'texto':\n",
        "    print(i)"
      ],
      "metadata": {
        "colab": {
          "base_uri": "https://localhost:8080/"
        },
        "id": "9rKRS8QCWbpD",
        "outputId": "b5fef8bc-55fd-4399-a93f-1391844371be"
      },
      "execution_count": null,
      "outputs": [
        {
          "output_type": "stream",
          "name": "stdout",
          "text": [
            "t\n",
            "e\n",
            "x\n",
            "t\n",
            "o\n"
          ]
        }
      ]
    },
    {
      "cell_type": "markdown",
      "metadata": {
        "id": "IKjPv4N4DgPy"
      },
      "source": [
        "# Estruturas de Dados\n",
        "\n",
        "## Listas\n",
        "\n",
        "Armazenam sequências de objetos. \n",
        "\n",
        "Mais informações sobre as estruturas de dados:\n",
        "https://www.w3schools.com/python/python_sets_methods.asp"
      ]
    },
    {
      "cell_type": "code",
      "source": [
        "lista = [ 1, 2, 3 ]"
      ],
      "metadata": {
        "id": "dvwL1r4Q7AWD"
      },
      "execution_count": null,
      "outputs": []
    },
    {
      "cell_type": "code",
      "source": [
        "lista"
      ],
      "metadata": {
        "colab": {
          "base_uri": "https://localhost:8080/"
        },
        "id": "Q_VOuGhGTrK0",
        "outputId": "1547bd9a-5e9d-482c-dc55-44e7c53f8a65"
      },
      "execution_count": null,
      "outputs": [
        {
          "output_type": "execute_result",
          "data": {
            "text/plain": [
              "[1, 2, 3]"
            ]
          },
          "metadata": {},
          "execution_count": 56
        }
      ]
    },
    {
      "cell_type": "code",
      "source": [
        "type(lista)"
      ],
      "metadata": {
        "colab": {
          "base_uri": "https://localhost:8080/"
        },
        "id": "aZ11m59CTwKT",
        "outputId": "b97686c2-5125-4996-8629-a7b593c572f7"
      },
      "execution_count": null,
      "outputs": [
        {
          "output_type": "execute_result",
          "data": {
            "text/plain": [
              "list"
            ]
          },
          "metadata": {},
          "execution_count": 57
        }
      ]
    },
    {
      "cell_type": "code",
      "source": [
        "lista[0]"
      ],
      "metadata": {
        "colab": {
          "base_uri": "https://localhost:8080/"
        },
        "id": "k2DEU5MdTzxi",
        "outputId": "c429dcc4-ac88-4060-97a0-cfc4e06659f1"
      },
      "execution_count": null,
      "outputs": [
        {
          "output_type": "execute_result",
          "data": {
            "text/plain": [
              "1"
            ]
          },
          "metadata": {},
          "execution_count": 58
        }
      ]
    },
    {
      "cell_type": "code",
      "source": [
        "lista[2] = 30"
      ],
      "metadata": {
        "id": "eIK2RTrjUCdm"
      },
      "execution_count": null,
      "outputs": []
    },
    {
      "cell_type": "code",
      "source": [
        "lista"
      ],
      "metadata": {
        "colab": {
          "base_uri": "https://localhost:8080/"
        },
        "id": "H6dfr4o9UKj-",
        "outputId": "1f5f7b12-32ef-46b3-d5b9-fa66f4eeeb59"
      },
      "execution_count": null,
      "outputs": [
        {
          "output_type": "execute_result",
          "data": {
            "text/plain": [
              "[1, 2, 30]"
            ]
          },
          "metadata": {},
          "execution_count": 60
        }
      ]
    },
    {
      "cell_type": "code",
      "source": [
        "lista[0:2]"
      ],
      "metadata": {
        "colab": {
          "base_uri": "https://localhost:8080/"
        },
        "id": "R7av5cbvUS1S",
        "outputId": "62b7f454-a01d-4796-f54f-4c59199869a9"
      },
      "execution_count": null,
      "outputs": [
        {
          "output_type": "execute_result",
          "data": {
            "text/plain": [
              "[1, 2]"
            ]
          },
          "metadata": {},
          "execution_count": 61
        }
      ]
    },
    {
      "cell_type": "code",
      "source": [
        "len(lista)"
      ],
      "metadata": {
        "colab": {
          "base_uri": "https://localhost:8080/"
        },
        "id": "5DdPM7SuUloJ",
        "outputId": "b485986d-d6a4-4541-f395-f8204b28a3bb"
      },
      "execution_count": null,
      "outputs": [
        {
          "output_type": "execute_result",
          "data": {
            "text/plain": [
              "3"
            ]
          },
          "metadata": {},
          "execution_count": 62
        }
      ]
    },
    {
      "cell_type": "code",
      "source": [
        "sum(lista)"
      ],
      "metadata": {
        "colab": {
          "base_uri": "https://localhost:8080/"
        },
        "id": "css_wWByUsDQ",
        "outputId": "03a0e668-bc65-427b-84b5-99be60ce2d65"
      },
      "execution_count": null,
      "outputs": [
        {
          "output_type": "execute_result",
          "data": {
            "text/plain": [
              "33"
            ]
          },
          "metadata": {},
          "execution_count": 63
        }
      ]
    },
    {
      "cell_type": "code",
      "source": [
        "max(lista)"
      ],
      "metadata": {
        "colab": {
          "base_uri": "https://localhost:8080/"
        },
        "id": "IEr_SGVNUulb",
        "outputId": "9545d8cb-0047-432e-8daf-7ebe3572c1ca"
      },
      "execution_count": null,
      "outputs": [
        {
          "output_type": "execute_result",
          "data": {
            "text/plain": [
              "30"
            ]
          },
          "metadata": {},
          "execution_count": 64
        }
      ]
    },
    {
      "cell_type": "code",
      "source": [
        "min(lista)"
      ],
      "metadata": {
        "colab": {
          "base_uri": "https://localhost:8080/"
        },
        "id": "FAil9dR9UwZx",
        "outputId": "eca7a63a-c647-4c29-8d56-6cdf55125b16"
      },
      "execution_count": null,
      "outputs": [
        {
          "output_type": "execute_result",
          "data": {
            "text/plain": [
              "1"
            ]
          },
          "metadata": {},
          "execution_count": 65
        }
      ]
    },
    {
      "cell_type": "code",
      "source": [
        "lista.append( 1 )"
      ],
      "metadata": {
        "id": "BRqgd982U66i"
      },
      "execution_count": null,
      "outputs": []
    },
    {
      "cell_type": "code",
      "source": [
        "lista"
      ],
      "metadata": {
        "colab": {
          "base_uri": "https://localhost:8080/"
        },
        "id": "dHvUxToGVBum",
        "outputId": "2748edc0-0fb6-4df2-e115-d670d8d29f2d"
      },
      "execution_count": null,
      "outputs": [
        {
          "output_type": "execute_result",
          "data": {
            "text/plain": [
              "[1, 2, 30, 1]"
            ]
          },
          "metadata": {},
          "execution_count": 67
        }
      ]
    },
    {
      "cell_type": "code",
      "source": [
        "lista.count(30)"
      ],
      "metadata": {
        "colab": {
          "base_uri": "https://localhost:8080/"
        },
        "id": "T4_4au29VG8e",
        "outputId": "916450c1-7900-4dbe-d137-fd467990546b"
      },
      "execution_count": null,
      "outputs": [
        {
          "output_type": "execute_result",
          "data": {
            "text/plain": [
              "1"
            ]
          },
          "metadata": {},
          "execution_count": 68
        }
      ]
    },
    {
      "cell_type": "code",
      "source": [
        "lista.count(1)"
      ],
      "metadata": {
        "colab": {
          "base_uri": "https://localhost:8080/"
        },
        "id": "lOQIXCN9VNJp",
        "outputId": "38a6b781-7ab2-40ba-ec05-8918c2769142"
      },
      "execution_count": null,
      "outputs": [
        {
          "output_type": "execute_result",
          "data": {
            "text/plain": [
              "2"
            ]
          },
          "metadata": {},
          "execution_count": 69
        }
      ]
    },
    {
      "cell_type": "code",
      "source": [
        "10 in lista"
      ],
      "metadata": {
        "colab": {
          "base_uri": "https://localhost:8080/"
        },
        "id": "iWmBQ5G_VTe9",
        "outputId": "37125585-d29c-4583-db65-27164c92e14a"
      },
      "execution_count": null,
      "outputs": [
        {
          "output_type": "execute_result",
          "data": {
            "text/plain": [
              "False"
            ]
          },
          "metadata": {},
          "execution_count": 70
        }
      ]
    },
    {
      "cell_type": "code",
      "source": [
        "1 in lista"
      ],
      "metadata": {
        "colab": {
          "base_uri": "https://localhost:8080/"
        },
        "id": "0XfPEW3hVZwY",
        "outputId": "3f8c2e70-ed93-4751-d00c-5756293326d0"
      },
      "execution_count": null,
      "outputs": [
        {
          "output_type": "execute_result",
          "data": {
            "text/plain": [
              "True"
            ]
          },
          "metadata": {},
          "execution_count": 71
        }
      ]
    },
    {
      "cell_type": "code",
      "source": [
        "lista.index(1)"
      ],
      "metadata": {
        "colab": {
          "base_uri": "https://localhost:8080/"
        },
        "id": "KIjzf4WcX0Z3",
        "outputId": "b4e5f248-ff5b-4d61-f71b-e4f9a14160d0"
      },
      "execution_count": null,
      "outputs": [
        {
          "output_type": "execute_result",
          "data": {
            "text/plain": [
              "0"
            ]
          },
          "metadata": {},
          "execution_count": 73
        }
      ]
    },
    {
      "cell_type": "code",
      "source": [
        "lista.clear()"
      ],
      "metadata": {
        "id": "rsiwOq6AZDkv"
      },
      "execution_count": null,
      "outputs": []
    },
    {
      "cell_type": "code",
      "source": [
        "lista"
      ],
      "metadata": {
        "colab": {
          "base_uri": "https://localhost:8080/"
        },
        "id": "1soyAwXyZFsr",
        "outputId": "d8ef4e4f-78ed-4ecf-f1ae-981f6a748d28"
      },
      "execution_count": null,
      "outputs": [
        {
          "output_type": "execute_result",
          "data": {
            "text/plain": [
              "[]"
            ]
          },
          "metadata": {},
          "execution_count": 75
        }
      ]
    },
    {
      "cell_type": "markdown",
      "metadata": {
        "id": "VmNXUP2sGIx0"
      },
      "source": [
        "# Tuplas\n",
        "\n",
        "São estruturas de dados imutáveis. As tuplas são criadas utilizando ()"
      ]
    },
    {
      "cell_type": "code",
      "source": [
        "tupla = ( 1, 2, 3 )"
      ],
      "metadata": {
        "id": "ssIX9I6i7EPM"
      },
      "execution_count": null,
      "outputs": []
    },
    {
      "cell_type": "code",
      "source": [
        "tupla"
      ],
      "metadata": {
        "colab": {
          "base_uri": "https://localhost:8080/"
        },
        "id": "MZgZ-bt7Zsbp",
        "outputId": "b7d0faf4-be32-44bc-929c-3fabf2a1fe42"
      },
      "execution_count": null,
      "outputs": [
        {
          "output_type": "execute_result",
          "data": {
            "text/plain": [
              "(1, 2, 3)"
            ]
          },
          "metadata": {},
          "execution_count": 77
        }
      ]
    },
    {
      "cell_type": "code",
      "source": [
        "tupla[0]"
      ],
      "metadata": {
        "colab": {
          "base_uri": "https://localhost:8080/"
        },
        "id": "Uo_d85XoZt4u",
        "outputId": "db70800a-580c-4056-b409-68c9b685496e"
      },
      "execution_count": null,
      "outputs": [
        {
          "output_type": "execute_result",
          "data": {
            "text/plain": [
              "1"
            ]
          },
          "metadata": {},
          "execution_count": 78
        }
      ]
    },
    {
      "cell_type": "code",
      "source": [
        "tupla[0] = 2"
      ],
      "metadata": {
        "colab": {
          "base_uri": "https://localhost:8080/",
          "height": 197
        },
        "id": "3Y3VkaY8Zz4u",
        "outputId": "62d29ae6-1c58-495a-c16a-caf4e20c7286"
      },
      "execution_count": null,
      "outputs": [
        {
          "output_type": "error",
          "ename": "TypeError",
          "evalue": "ignored",
          "traceback": [
            "\u001b[0;31m---------------------------------------------------------------------------\u001b[0m",
            "\u001b[0;31mTypeError\u001b[0m                                 Traceback (most recent call last)",
            "\u001b[0;32m<ipython-input-79-63912eb62050>\u001b[0m in \u001b[0;36m<module>\u001b[0;34m()\u001b[0m\n\u001b[0;32m----> 1\u001b[0;31m \u001b[0mtupla\u001b[0m\u001b[0;34m[\u001b[0m\u001b[0;36m0\u001b[0m\u001b[0;34m]\u001b[0m \u001b[0;34m=\u001b[0m \u001b[0;36m2\u001b[0m\u001b[0;34m\u001b[0m\u001b[0;34m\u001b[0m\u001b[0m\n\u001b[0m",
            "\u001b[0;31mTypeError\u001b[0m: 'tuple' object does not support item assignment"
          ]
        }
      ]
    },
    {
      "cell_type": "markdown",
      "metadata": {
        "id": "NJ2GrTl-G6iV"
      },
      "source": [
        "# Conjuntos\n",
        "\n",
        "Os elementos de um conjunto não se repetem. Declaramos usando {}"
      ]
    },
    {
      "cell_type": "code",
      "source": [
        "conjunto = {1, 2, 3}"
      ],
      "metadata": {
        "id": "mT6F2p227WG9"
      },
      "execution_count": null,
      "outputs": []
    },
    {
      "cell_type": "code",
      "source": [
        "conjunto"
      ],
      "metadata": {
        "colab": {
          "base_uri": "https://localhost:8080/"
        },
        "id": "9OZ_AyvtaYMh",
        "outputId": "ac7e6195-9ba7-4e28-af5d-b95868b05236"
      },
      "execution_count": null,
      "outputs": [
        {
          "output_type": "execute_result",
          "data": {
            "text/plain": [
              "{1, 2, 3}"
            ]
          },
          "metadata": {},
          "execution_count": 81
        }
      ]
    },
    {
      "cell_type": "code",
      "source": [
        "conjunto.add( 4 )"
      ],
      "metadata": {
        "id": "fxv1tTM6ab8o"
      },
      "execution_count": null,
      "outputs": []
    },
    {
      "cell_type": "code",
      "source": [
        "conjunto"
      ],
      "metadata": {
        "colab": {
          "base_uri": "https://localhost:8080/"
        },
        "id": "sZ1tujzyaihq",
        "outputId": "e3468d43-cb41-4766-8a54-a5ecd02e2934"
      },
      "execution_count": null,
      "outputs": [
        {
          "output_type": "execute_result",
          "data": {
            "text/plain": [
              "{1, 2, 3, 4}"
            ]
          },
          "metadata": {},
          "execution_count": 83
        }
      ]
    },
    {
      "cell_type": "code",
      "source": [
        "conjunto.add(4)"
      ],
      "metadata": {
        "id": "OXyJ9v1-akAl"
      },
      "execution_count": null,
      "outputs": []
    },
    {
      "cell_type": "code",
      "source": [
        "conjunto"
      ],
      "metadata": {
        "colab": {
          "base_uri": "https://localhost:8080/"
        },
        "id": "W5zIQGhyal6D",
        "outputId": "7e983ed4-2091-4de9-9cb4-3db55c42a7f5"
      },
      "execution_count": null,
      "outputs": [
        {
          "output_type": "execute_result",
          "data": {
            "text/plain": [
              "{1, 2, 3, 4}"
            ]
          },
          "metadata": {},
          "execution_count": 85
        }
      ]
    },
    {
      "cell_type": "code",
      "source": [
        "lista = [ 'A', 'B', 'A', 'B', 'C' ]"
      ],
      "metadata": {
        "id": "twheQV0Ta6P4"
      },
      "execution_count": null,
      "outputs": []
    },
    {
      "cell_type": "code",
      "source": [
        "unicos = []\n",
        "\n",
        "for x in lista:\n",
        "    if x in unicos:\n",
        "        print(x, 'esta em ', unicos)\n",
        "    else:\n",
        "        unicos.append(x)\n",
        "\n",
        "print(unicos)"
      ],
      "metadata": {
        "colab": {
          "base_uri": "https://localhost:8080/"
        },
        "id": "DPdU6q6ybRn8",
        "outputId": "1fa1047f-8949-4d97-f0ee-a18fdfb1ed78"
      },
      "execution_count": null,
      "outputs": [
        {
          "output_type": "stream",
          "name": "stdout",
          "text": [
            "A esta em  ['A', 'B']\n",
            "B esta em  ['A', 'B']\n",
            "['A', 'B', 'C']\n"
          ]
        }
      ]
    },
    {
      "cell_type": "code",
      "source": [
        "set(lista)"
      ],
      "metadata": {
        "colab": {
          "base_uri": "https://localhost:8080/"
        },
        "id": "QC-nanP1a_ip",
        "outputId": "11a1ad87-c6fb-48a5-fa49-60db27558420"
      },
      "execution_count": null,
      "outputs": [
        {
          "output_type": "execute_result",
          "data": {
            "text/plain": [
              "{'A', 'B', 'C'}"
            ]
          },
          "metadata": {},
          "execution_count": 87
        }
      ]
    },
    {
      "cell_type": "markdown",
      "metadata": {
        "id": "2Qu7LyslH8Be"
      },
      "source": [
        "# Dicionário\n",
        "\n",
        "É uma estrutura que associa uma chave a um valor. Declaramos dicionário usando {}."
      ]
    },
    {
      "cell_type": "code",
      "source": [
        "notas = {\n",
        "    'Abner': 5,\n",
        "    'Joao': 8,\n",
        "    'Ana': 8.5\n",
        "}"
      ],
      "metadata": {
        "id": "0N2D4W1T7YOq"
      },
      "execution_count": null,
      "outputs": []
    },
    {
      "cell_type": "code",
      "source": [
        "notas['Abner'] = 6"
      ],
      "metadata": {
        "id": "ecMZD6GfdOkc"
      },
      "execution_count": null,
      "outputs": []
    },
    {
      "cell_type": "code",
      "source": [
        "notas['Abner']"
      ],
      "metadata": {
        "colab": {
          "base_uri": "https://localhost:8080/"
        },
        "id": "ai2M_2wZdPqv",
        "outputId": "5f2880c6-7541-4baf-f1bc-680c070902ed"
      },
      "execution_count": null,
      "outputs": [
        {
          "output_type": "execute_result",
          "data": {
            "text/plain": [
              "6"
            ]
          },
          "metadata": {},
          "execution_count": 93
        }
      ]
    },
    {
      "cell_type": "code",
      "source": [
        "notas = {\n",
        "    'Abner': [5, 6],\n",
        "    'Joao': [8, 9],\n",
        "    'Ana': [8.5, 9.5]\n",
        "}"
      ],
      "metadata": {
        "id": "2MnlGPcTdSU0"
      },
      "execution_count": null,
      "outputs": []
    },
    {
      "cell_type": "code",
      "source": [
        "notas['Abner']"
      ],
      "metadata": {
        "colab": {
          "base_uri": "https://localhost:8080/"
        },
        "id": "fKtKqfDZdcX_",
        "outputId": "e4f09d22-1345-4c8a-988d-6bda3d323e48"
      },
      "execution_count": null,
      "outputs": [
        {
          "output_type": "execute_result",
          "data": {
            "text/plain": [
              "[5, 6]"
            ]
          },
          "metadata": {},
          "execution_count": 95
        }
      ]
    },
    {
      "cell_type": "code",
      "source": [
        "notas['Abner'].append(10)"
      ],
      "metadata": {
        "id": "4jh3-i0UdhRZ"
      },
      "execution_count": null,
      "outputs": []
    },
    {
      "cell_type": "code",
      "source": [
        "notas"
      ],
      "metadata": {
        "colab": {
          "base_uri": "https://localhost:8080/"
        },
        "id": "84uMIEMSdoR3",
        "outputId": "ee6158e8-208f-492d-cb25-a4795929094b"
      },
      "execution_count": null,
      "outputs": [
        {
          "output_type": "execute_result",
          "data": {
            "text/plain": [
              "{'Abner': [5, 6, 10], 'Ana': [8.5, 9.5], 'Joao': [8, 9]}"
            ]
          },
          "metadata": {},
          "execution_count": 97
        }
      ]
    },
    {
      "cell_type": "code",
      "source": [
        "notas.keys()"
      ],
      "metadata": {
        "colab": {
          "base_uri": "https://localhost:8080/"
        },
        "id": "jFqfZw__do4T",
        "outputId": "3830a84c-681c-4288-914d-421cb87b7e32"
      },
      "execution_count": null,
      "outputs": [
        {
          "output_type": "execute_result",
          "data": {
            "text/plain": [
              "dict_keys(['Abner', 'Joao', 'Ana'])"
            ]
          },
          "metadata": {},
          "execution_count": 98
        }
      ]
    },
    {
      "cell_type": "code",
      "source": [
        ""
      ],
      "metadata": {
        "id": "jwqExVMSeUb5"
      },
      "execution_count": null,
      "outputs": []
    }
  ]
}